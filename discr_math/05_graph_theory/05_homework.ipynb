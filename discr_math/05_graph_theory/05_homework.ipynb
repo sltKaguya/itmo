{
 "cells": [
  {
   "cell_type": "markdown",
   "metadata": {},
   "source": [
    "# Additional materials\n",
    "This file contains the source code, comments to it and instructions for building.\n",
    "It is also assumed, that the user already has [python](https://www.python.org/downloads/) downloaded and [pip](https://pip.pypa.io/en/stable/installation/) installed. If you are using other package managers such as Homebrew or Conda, you'll have to ensure that all used libraries are installed on your device"
   ]
  },
  {
   "cell_type": "markdown",
   "metadata": {},
   "source": [
    "## Getting and processing data for the graph\n",
    "As a result of human imperfection, there was a need to process data automatically. This removes the human factor and make the work way more easier. However, the creation of such a system can be very laborious, long-drawn-out, requiring patience and, in total, ungrateful. But in all we can get a very pretty result))"
   ]
  },
  {
   "cell_type": "markdown",
   "metadata": {},
   "source": [
    "### Installing libraries\n",
    "I used 3 libraries to handle, parse and process data, respectively, [Requests](https://pypi.org/project/requests/), [Beautiful Soup](https://pypi.org/project/beautifulsoup4/) and [Pandas](https://pypi.org/project/pandas/)\n",
    "\n",
    "To construct and compute my graph I used [Networkx](https://pypi.org/project/networkx/) – a tool for working with complex networks, which is very helpful when we have many nodes and edges in our graph.\n",
    "\n",
    "Finally, to export my graph into my $\\TeX$ cleanup, I used [tikzplotlib](https://pypi.org/project/tikzplotlib/). It will convert my graph object to a PGFPlot figure."
   ]
  },
  {
   "cell_type": "code",
   "execution_count": null,
   "metadata": {},
   "outputs": [],
   "source": [
    "%pip install beautifulsoup4\n",
    "%pip install requests\n",
    "%pip install pandas\n",
    "#\n",
    "%pip install networkx\n",
    "#\n",
    "%pip install tikzplotlib"
   ]
  },
  {
   "cell_type": "markdown",
   "metadata": {},
   "source": [
    "### Importing libraries\n",
    "Is there something to explain? :)"
   ]
  },
  {
   "cell_type": "code",
   "execution_count": null,
   "metadata": {},
   "outputs": [],
   "source": [
    "from bs4 import BeautifulSoup\n",
    "import requests\n",
    "import pandas as pd\n",
    "#\n",
    "import networkx as nx\n",
    "#\n",
    "import tikzplotlib"
   ]
  },
  {
   "cell_type": "code",
   "execution_count": 4,
   "metadata": {},
   "outputs": [],
   "source": [
    "from bs4 import BeautifulSoup\n",
    "import requests\n",
    "import pandas as pd\n",
    "#\n",
    "import networkx as nx\n",
    "#\n",
    "import tikzplotlib"
   ]
  }
 ],
 "metadata": {
  "kernelspec": {
   "display_name": "Python 3.10.4 64-bit",
   "language": "python",
   "name": "python3"
  },
  "language_info": {
   "codemirror_mode": {
    "name": "ipython",
    "version": 3
   },
   "file_extension": ".py",
   "mimetype": "text/x-python",
   "name": "python",
   "nbconvert_exporter": "python",
   "pygments_lexer": "ipython3",
   "version": "3.10.4"
  },
  "orig_nbformat": 4,
  "vscode": {
   "interpreter": {
    "hash": "b460384b52104c1e5b9cf54bee46a255d22b2bef338f75ac4ad5d48196028d3c"
   }
  }
 },
 "nbformat": 4,
 "nbformat_minor": 2
}
