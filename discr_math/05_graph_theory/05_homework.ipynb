{
 "cells": [
  {
   "cell_type": "markdown",
   "metadata": {},
   "source": [
    "# Additional materials\n",
    "This file contains the source code, comments to it and instructions for building.\n",
    "It is also assumed, that the user already has [python](https://www.python.org/downloads/) downloaded and [pip](https://pip.pypa.io/en/stable/installation/) installed. If you are using other package managers such as Homebrew or Conda, you'll have to ensure that all used libraries are installed on your device"
   ]
  },
  {
   "cell_type": "markdown",
   "metadata": {},
   "source": [
    "## Getting and processing data for the graph\n",
    "As a result of human imperfection, there was a need to process data automatically. This removes the human factor and make the work way more easier. However, the creation of such a system can be very laborious, long-drawn-out, requiring patience and, in total, ungrateful. But in all we can get a very pretty result))"
   ]
  },
  {
   "cell_type": "markdown",
   "metadata": {},
   "source": [
    "### Installing libraries\n",
    "I used 3 libraries to handle, parse and process data, respectively, [Requests](https://pypi.org/project/requests/), [Beautiful Soup](https://pypi.org/project/beautifulsoup4/) and [Pandas](https://pypi.org/project/pandas/)\n",
    "\n",
    "To construct and compute my graph I used [Networkx](https://pypi.org/project/networkx/) – a tool for working with complex networks, which is very helpful when we have many nodes and edges in our graph.\n",
    "\n",
    "Finally, to export my graph into my $\\rm\\TeX$ cleanup, I used [tikzplotlib](https://pypi.org/project/tikzplotlib/). It will convert my graph object to a PGFPlot figure."
   ]
  },
  {
   "cell_type": "code",
   "execution_count": null,
   "metadata": {},
   "outputs": [],
   "source": [
    "%pip install beautifulsoup4\n",
    "%pip install requests\n",
    "%pip install pandas\n",
    "#\n",
    "%pip install networkx\n",
    "#\n",
    "%pip install tikzplotlib"
   ]
  },
  {
   "cell_type": "markdown",
   "metadata": {},
   "source": [
    "### Importing libraries\n",
    "Is there something to explain? :)"
   ]
  },
  {
   "cell_type": "code",
   "execution_count": null,
   "metadata": {},
   "outputs": [],
   "source": [
    "from bs4 import BeautifulSoup\n",
    "import requests\n",
    "import pandas as pd\n",
    "#\n",
    "import networkx as nx\n",
    "#\n",
    "import tikzplotlib"
   ]
  },
  {
   "cell_type": "markdown",
   "metadata": {},
   "source": [
    "### Getting countries\n",
    "It will be fabulous to have a list of land borders of European countries on Wiki in one, but they are separated, so the hard way you choose :(\n",
    "\n",
    "We will first send a request to the [page](https://simple.wikipedia.org/wiki/List_of_European_countries) with the table of all European countries and check the status code (not necessary for this case, but useful in general):"
   ]
  },
  {
   "cell_type": "code",
   "execution_count": 5,
   "metadata": {},
   "outputs": [],
   "source": [
    "r = requests.get(\n",
    "    'https://simple.wikipedia.org/wiki/List_of_European_countries')\n",
    "if r.status_code != 200:\n",
    "    print('Error: website doesn\\'t allow to download the source code')\n",
    "    quit\n"
   ]
  },
  {
   "cell_type": "markdown",
   "metadata": {},
   "source": [
    "We'll create a Beautiful Soup object by reading and parsing the text from our request and then find the part with the table in it.\n",
    "Thereafter we have to delete (decompose) all data under tag 'sup' which stands for superscript which is used for footnotes in Wikipedia to \"clear\" countries name:"
   ]
  },
  {
   "cell_type": "code",
   "execution_count": 6,
   "metadata": {},
   "outputs": [],
   "source": [
    "soup = BeautifulSoup(r.text, 'html.parser')\n",
    "table = soup.find('table', {'class': \"wikitable\"})\n",
    "for data in table(['sup']):\n",
    "    data.decompose()"
   ]
  },
  {
   "cell_type": "markdown",
   "metadata": {},
   "source": [
    "Finally we can build our dataframe. First we read the info from our table into a list of DataFrame objects and then build the DataFrame itself.\n",
    "Then I deleted some columns I don't need and rename the column with countries to \"Country\". At last, I sorted the countries:"
   ]
  },
  {
   "cell_type": "code",
   "execution_count": 23,
   "metadata": {},
   "outputs": [],
   "source": [
    "df = pd.read_html(str(table))\n",
    "df = pd.DataFrame(df[0])\n",
    "df = df.drop([\"Area(km²)\", \"Population(As of 2011)\",\n",
    "             \"Population density(per km²)\"], axis=1)\n",
    "df.columns = ['Country', 'Capital']\n",
    "df = df.sort_values(by=['Country'])\n"
   ]
  },
  {
   "cell_type": "markdown",
   "metadata": {},
   "source": [
    "You can easily check your DataFrame just by printing the object or using the method \"head\" to print the n first rows:"
   ]
  },
  {
   "cell_type": "code",
   "execution_count": 24,
   "metadata": {},
   "outputs": [
    {
     "name": "stdout",
     "output_type": "stream",
     "text": [
      "   Country           Capital\n",
      "1  Albania            Tirana\n",
      "2  Andorra  Andorra la Vella\n",
      "0  Armenia           Yerevan\n",
      "3  Austria            Vienna\n",
      "4  Belarus             Minsk\n"
     ]
    }
   ],
   "source": [
    "print(df.head())"
   ]
  }
 ],
 "metadata": {
  "kernelspec": {
   "display_name": "Python 3.10.4 64-bit",
   "language": "python",
   "name": "python3"
  },
  "language_info": {
   "codemirror_mode": {
    "name": "ipython",
    "version": 3
   },
   "file_extension": ".py",
   "mimetype": "text/x-python",
   "name": "python",
   "nbconvert_exporter": "python",
   "pygments_lexer": "ipython3",
   "version": "3.10.4"
  },
  "orig_nbformat": 4,
  "vscode": {
   "interpreter": {
    "hash": "b460384b52104c1e5b9cf54bee46a255d22b2bef338f75ac4ad5d48196028d3c"
   }
  }
 },
 "nbformat": 4,
 "nbformat_minor": 2
}
